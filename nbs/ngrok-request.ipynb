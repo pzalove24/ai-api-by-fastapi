{
 "cells": [
  {
   "cell_type": "code",
   "execution_count": 1,
   "metadata": {},
   "outputs": [],
   "source": [
    "import requests"
   ]
  },
  {
   "cell_type": "code",
   "execution_count": 6,
   "metadata": {},
   "outputs": [
    {
     "name": "stdout",
     "output_type": "stream",
     "text": [
      "{'uuid': '27264a8f-0dcc-11ee-aef9-401c83ac1e3a', 'query': 'buy those is like magic', 'label': 'ham', 'confidence': 0.9469377398490906, 'model_version': 'v1'}\n"
     ]
    }
   ],
   "source": [
    "endpoint = 'https://064b-27-55-93-89.ngrok-free.app/'\n",
    "headers = {}\n",
    "r = requests.post(endpoint, json={\"q\": \"buy those is like magic\"})\n",
    "print(r.json())"
   ]
  },
  {
   "cell_type": "code",
   "execution_count": 8,
   "metadata": {},
   "outputs": [
    {
     "name": "stdout",
     "output_type": "stream",
     "text": [
      "uuid,label,confidence,query,model_version\n",
      "1c1bbe59-0dbf-11ee-890c-401c83ac1e3a,ham,0.93299400806427,hello world,None\n",
      "1999030d-0dbf-11ee-b331-401c83ac1e3a,ham,0.93299400806427,hello world,None\n",
      "0ded85c1-0dcc-11ee-b5c4-401c83ac1e3a,ham,0.9968916773796082,buy this right now,v1\n",
      "1e82d458-0dcc-11ee-a1f1-401c83ac1e3a,ham,0.988244891166687,buy this,v1\n",
      "79eefb4b-0dca-11ee-be4a-401c83ac1e3a,ham,0.9356104135513306,just buy this will make you rich,v1\n",
      "e159a735-0dc9-11ee-a065-401c83ac1e3a,ham,0.93299400806427,hello world,v1\n",
      "1ffb8560-0dca-11ee-af1a-401c83ac1e3a,ham,0.9837407469749451,this is not spam buybuy,v1\n",
      "71e3de8f-0dc7-11ee-8342-401c83ac1e3a,ham,0.9908266663551331,dashboard on discount buy buy,None\n",
      "27264a8f-0dcc-11ee-aef9-401c83ac1e3a,ham,0.9469377398490906,buy those is like magic,v1\n",
      "191bd81e-0dcc-11ee-8f98-401c83ac1e3a,ham,0.9968916773796082,buy this right now,v1\n",
      "6fa65f3f-0dc2-11ee-b7c7-401c83ac1e3a,ham,0.93299400806427,hello world,None\n",
      "093d2895-0dc8-11ee-864d-401c83ac1e3a,ham,0.9343498349189758,this is awesome,v1\n",
      "\n"
     ]
    }
   ],
   "source": [
    "endpoint = 'https://064b-27-55-93-89.ngrok-free.app/dataset'\n",
    "r = requests.get(endpoint)\n",
    "print(r.text)"
   ]
  },
  {
   "cell_type": "code",
   "execution_count": 9,
   "metadata": {},
   "outputs": [
    {
     "name": "stdout",
     "output_type": "stream",
     "text": [
      "b'uuid,label,confidence,query,model_version'\n",
      "b'1c1bbe59-0dbf-11ee-890c-401c83ac1e3a,ham,0.93299400806427,hello world,None'\n",
      "b'1999030d-0dbf-11ee-b331-401c83ac1e3a,ham,0.93299400806427,hello world,None'\n",
      "b'0ded85c1-0dcc-11ee-b5c4-401c83ac1e3a,ham,0.9968916773796082,buy this right now,v1'\n",
      "b'1e82d458-0dcc-11ee-a1f1-401c83ac1e3a,ham,0.988244891166687,buy this,v1'\n",
      "b'79eefb4b-0dca-11ee-be4a-401c83ac1e3a,ham,0.9356104135513306,just buy this will make you rich,v1'\n",
      "b'e159a735-0dc9-11ee-a065-401c83ac1e3a,ham,0.93299400806427,hello world,v1'\n",
      "b'1ffb8560-0dca-11ee-af1a-401c83ac1e3a,ham,0.9837407469749451,this is not spam buybuy,v1'\n",
      "b'71e3de8f-0dc7-11ee-8342-401c83ac1e3a,ham,0.9908266663551331,dashboard on discount buy buy,None'\n",
      "b'27264a8f-0dcc-11ee-aef9-401c83ac1e3a,ham,0.9469377398490906,buy those is like magic,v1'\n",
      "b'191bd81e-0dcc-11ee-8f98-401c83ac1e3a,ham,0.9968916773796082,buy this right now,v1'\n",
      "b'6fa65f3f-0dc2-11ee-b7c7-401c83ac1e3a,ham,0.93299400806427,hello world,None'\n",
      "b'093d2895-0dc8-11ee-864d-401c83ac1e3a,ham,0.9343498349189758,this is awesome,v1'\n"
     ]
    }
   ],
   "source": [
    "endpoint = 'https://064b-27-55-93-89.ngrok-free.app/dataset'\n",
    "s = requests.Session()\n",
    "r = s.get(endpoint, stream=True)\n",
    "for line in r.iter_lines():\n",
    "    if line:\n",
    "        print(line)"
   ]
  }
 ],
 "metadata": {
  "kernelspec": {
   "display_name": "ai-api",
   "language": "python",
   "name": "python3"
  },
  "language_info": {
   "codemirror_mode": {
    "name": "ipython",
    "version": 3
   },
   "file_extension": ".py",
   "mimetype": "text/x-python",
   "name": "python",
   "nbconvert_exporter": "python",
   "pygments_lexer": "ipython3",
   "version": "3.8.10"
  },
  "orig_nbformat": 4
 },
 "nbformat": 4,
 "nbformat_minor": 2
}
